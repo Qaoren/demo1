{
 "cells": [
  {
   "cell_type": "code",
   "execution_count": 45,
   "id": "d5bdf003-d37b-41d0-88aa-5c151c7f2919",
   "metadata": {},
   "outputs": [
    {
     "data": {
      "text/plain": [
       "'C'"
      ]
     },
     "execution_count": 45,
     "metadata": {},
     "output_type": "execute_result"
    }
   ],
   "source": [
    "def shift_letter(letter, shift):\n",
    "    import string as string\n",
    "    alphabet_string = string.ascii_uppercase\n",
    "    alphabet_list = list(alphabet_string)\n",
    "    if letter not in list(alphabet_string):\n",
    "        next_letter = \" \"\n",
    "    else:\n",
    "        alphabet_index = alphabet_list.index(letter)\n",
    "        next_letter_index = alphabet_index + shift\n",
    "        while next_letter_index > 25:\n",
    "            next_letter_index = next_letter_index - 26\n",
    "        next_letter = alphabet_list[next_letter_index]\n",
    "    return next_letter\n",
    "shift_letter('Z', 3)"
   ]
  },
  {
   "cell_type": "code",
   "execution_count": null,
   "id": "7b7dc777-631b-4ec9-b16e-71c5a15bceec",
   "metadata": {},
   "outputs": [],
   "source": []
  },
  {
   "cell_type": "code",
   "execution_count": null,
   "id": "1761a377-cbcf-4afe-8c4d-d09168d71166",
   "metadata": {},
   "outputs": [],
   "source": []
  }
 ],
 "metadata": {
  "kernelspec": {
   "display_name": "Python 3 (ipykernel)",
   "language": "python",
   "name": "python3"
  },
  "language_info": {
   "codemirror_mode": {
    "name": "ipython",
    "version": 3
   },
   "file_extension": ".py",
   "mimetype": "text/x-python",
   "name": "python",
   "nbconvert_exporter": "python",
   "pygments_lexer": "ipython3",
   "version": "3.9.12"
  }
 },
 "nbformat": 4,
 "nbformat_minor": 5
}
