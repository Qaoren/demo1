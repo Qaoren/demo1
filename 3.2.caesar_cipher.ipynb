{
 "cells": [
  {
   "cell_type": "code",
   "execution_count": 20,
   "id": "7c91258c-fbe8-4573-99f1-19eae788f657",
   "metadata": {},
   "outputs": [
    {
     "name": "stdout",
     "output_type": "stream",
     "text": [
      "['A', 'B', 'C', 'D', 'E', 'F', 'G', 'H', 'I', 'J', 'K', 'L', 'M', 'N', 'O', 'P', 'Q', 'R', 'S', 'T', 'U', 'V', 'W', 'X', 'Y', 'Z']\n"
     ]
    },
    {
     "data": {
      "text/plain": [
       "'WUB'"
      ]
     },
     "execution_count": 20,
     "metadata": {},
     "output_type": "execute_result"
    }
   ],
   "source": [
    "def caesar_cipher(message, shift):\n",
    "    import string as string\n",
    "    alphabet_string = string.ascii_uppercase\n",
    "    alphabet_list = list(alphabet_string)\n",
    "    print(alphabet_list)\n",
    "    phrase = str()\n",
    "    for element in list(message):\n",
    "        if element not in alphabet_list:\n",
    "            next_letter = \" \"\n",
    "            phrase = phrase + next_letter\n",
    "        else:\n",
    "            alphabet_index = alphabet_list.index(element)\n",
    "            next_letter_index = alphabet_index + shift\n",
    "            while next_letter_index > 25:\n",
    "                next_letter_index = next_letter_index - 26\n",
    "            next_letter = alphabet_list[next_letter_index]\n",
    "            phrase = phrase + next_letter\n",
    "    return phrase\n",
    "caesar_cipher('TRY', 3)"
   ]
  },
  {
   "cell_type": "code",
   "execution_count": null,
   "id": "4c0a6f4e-3164-4a03-bb41-689acea0bd4b",
   "metadata": {},
   "outputs": [],
   "source": []
  },
  {
   "cell_type": "code",
   "execution_count": null,
   "id": "95129c3c-d8ad-4c00-a7ba-ab4c4eae9ce4",
   "metadata": {},
   "outputs": [],
   "source": []
  }
 ],
 "metadata": {
  "kernelspec": {
   "display_name": "Python 3 (ipykernel)",
   "language": "python",
   "name": "python3"
  },
  "language_info": {
   "codemirror_mode": {
    "name": "ipython",
    "version": 3
   },
   "file_extension": ".py",
   "mimetype": "text/x-python",
   "name": "python",
   "nbconvert_exporter": "python",
   "pygments_lexer": "ipython3",
   "version": "3.9.12"
  }
 },
 "nbformat": 4,
 "nbformat_minor": 5
}
