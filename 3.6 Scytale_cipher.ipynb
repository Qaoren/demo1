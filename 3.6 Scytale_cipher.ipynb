{
 "cells": [
  {
   "cell_type": "code",
   "execution_count": 1,
   "id": "4a2899c6-adc7-414d-ba3c-023ceefea670",
   "metadata": {},
   "outputs": [
    {
     "data": {
      "text/plain": [
       "'INFORMATION_AGE_'"
      ]
     },
     "execution_count": 1,
     "metadata": {},
     "output_type": "execute_result"
    }
   ],
   "source": [
    "def scytale_cipher(message, shift):\n",
    "    message_list = list(message)\n",
    "    position = 0\n",
    "    decoded_word = message\n",
    "    for i in message_list:\n",
    "        letter_position_2 = (position//shift) + (len(message)//shift) * (position % shift)\n",
    "        original_placing = letter_position_2\n",
    "        position = position + 1\n",
    "        length = len(message) - 1\n",
    "        while original_placing > length:\n",
    "            original_placing = original_placing - length\n",
    "        decoded_word = decoded_word[0:original_placing] + i + decoded_word[original_placing + 1: ]\n",
    "    return decoded_word\n",
    "scytale_cipher(\"IRIANMOGFANEOT__\", 4)"
   ]
  },
  {
   "cell_type": "code",
   "execution_count": null,
   "id": "6d63f34f-7558-4d6f-945a-b8189a7bad90",
   "metadata": {},
   "outputs": [],
   "source": []
  }
 ],
 "metadata": {
  "kernelspec": {
   "display_name": "Python 3 (ipykernel)",
   "language": "python",
   "name": "python3"
  },
  "language_info": {
   "codemirror_mode": {
    "name": "ipython",
    "version": 3
   },
   "file_extension": ".py",
   "mimetype": "text/x-python",
   "name": "python",
   "nbconvert_exporter": "python",
   "pygments_lexer": "ipython3",
   "version": "3.9.12"
  }
 },
 "nbformat": 4,
 "nbformat_minor": 5
}
