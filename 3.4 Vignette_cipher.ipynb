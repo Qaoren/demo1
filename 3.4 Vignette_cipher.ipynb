{
 "cells": [
  {
   "cell_type": "code",
   "execution_count": 1,
   "id": "225c872c-6e3a-493e-9508-5abd39728335",
   "metadata": {},
   "outputs": [
    {
     "data": {
      "text/plain": [
       "'ACE DG HD'"
      ]
     },
     "execution_count": 1,
     "metadata": {},
     "output_type": "execute_result"
    }
   ],
   "source": [
    "def vigenere_cipher(message, key):\n",
    "    import string as string\n",
    "    alphabet_string = string.ascii_uppercase\n",
    "    alphabet_list = list(alphabet_string)\n",
    "    final_letter = str()\n",
    "    list_message = list(message)\n",
    "    list_key = list(key)\n",
    "    while len(message) > len(key):\n",
    "        key = key + key\n",
    "        list_key = list(key)\n",
    "    for i,j in list_message and zip(list_message, list_key):\n",
    "        if i not in list(alphabet_string):\n",
    "            next_letter = \" \"\n",
    "            final_letter = final_letter + next_letter\n",
    "        else:\n",
    "            shift = alphabet_list.index(j)\n",
    "            alphabet_index = alphabet_list.index(i)\n",
    "            next_letter_index = alphabet_index + shift\n",
    "            while next_letter_index > 25:\n",
    "                next_letter_index = next_letter_index - 26\n",
    "            next_letter = alphabet_list[next_letter_index]\n",
    "            final_letter = final_letter + next_letter\n",
    "    return final_letter\n",
    "vigenere_cipher('ABC DF ED','ABCD')"
   ]
  },
  {
   "cell_type": "code",
   "execution_count": null,
   "id": "4db62ff7-a851-4ea4-950b-80c6c515d472",
   "metadata": {},
   "outputs": [],
   "source": []
  }
 ],
 "metadata": {
  "kernelspec": {
   "display_name": "Python 3 (ipykernel)",
   "language": "python",
   "name": "python3"
  },
  "language_info": {
   "codemirror_mode": {
    "name": "ipython",
    "version": 3
   },
   "file_extension": ".py",
   "mimetype": "text/x-python",
   "name": "python",
   "nbconvert_exporter": "python",
   "pygments_lexer": "ipython3",
   "version": "3.9.12"
  }
 },
 "nbformat": 4,
 "nbformat_minor": 5
}
