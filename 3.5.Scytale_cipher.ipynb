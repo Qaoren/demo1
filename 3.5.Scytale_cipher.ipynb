{
 "cells": [
  {
   "cell_type": "code",
   "execution_count": 1,
   "id": "e0550038-c1d7-44fb-86b4-6033cdfaee7a",
   "metadata": {},
   "outputs": [
    {
     "data": {
      "text/plain": [
       "'IRIANMOGFANEOT__'"
      ]
     },
     "execution_count": 1,
     "metadata": {},
     "output_type": "execute_result"
    }
   ],
   "source": [
    "def scytale_cipher(message, shift):\n",
    "    message_list = list(message)\n",
    "    position = 0\n",
    "    while len(message) % shift != 0:\n",
    "        message = message + \"_\"\n",
    "        message_list = list(message)\n",
    "    secret_code = str()\n",
    "    for i in message_list:\n",
    "        letter_position_2 = (position//shift) + (len(message)//shift) * (position % shift)\n",
    "        position = position + 1\n",
    "        letter_code = message_list[letter_position_2]\n",
    "        secret_code = secret_code + letter_code\n",
    "    return secret_code\n",
    "scytale_cipher(\"INFORMATION_AGE\", 4)"
   ]
  },
  {
   "cell_type": "code",
   "execution_count": null,
   "id": "844fa6a4-9027-4926-ac8d-e0d5b7a7c297",
   "metadata": {},
   "outputs": [],
   "source": []
  }
 ],
 "metadata": {
  "kernelspec": {
   "display_name": "Python 3 (ipykernel)",
   "language": "python",
   "name": "python3"
  },
  "language_info": {
   "codemirror_mode": {
    "name": "ipython",
    "version": 3
   },
   "file_extension": ".py",
   "mimetype": "text/x-python",
   "name": "python",
   "nbconvert_exporter": "python",
   "pygments_lexer": "ipython3",
   "version": "3.9.12"
  }
 },
 "nbformat": 4,
 "nbformat_minor": 5
}
